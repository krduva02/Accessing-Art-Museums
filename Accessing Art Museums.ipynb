{
 "cells": [
  {
   "cell_type": "markdown",
   "metadata": {},
   "source": [
    "# Accessing Art Museums"
   ]
  },
  {
   "cell_type": "code",
   "execution_count": 1,
   "metadata": {},
   "outputs": [
    {
     "name": "stdout",
     "output_type": "stream",
     "text": [
      "Hello World\n"
     ]
    }
   ],
   "source": [
    "print('Hello World')"
   ]
  },
  {
   "cell_type": "code",
   "execution_count": 1,
   "metadata": {},
   "outputs": [],
   "source": [
    "#import libraries\n",
    "import json\n",
    "import pandas as pd\n",
    "import numpy as np"
   ]
  },
  {
   "cell_type": "markdown",
   "metadata": {},
   "source": [
    "# Load data\n",
    "The following data sets are used in this project:\n",
    "1. US Art Museums (CSV) - Art museums in the United States with website, city, state, zip code, and cost of admission\n",
    "2. 2022 Census Income Data (CSV) - Median household income per zip code in the United States"
   ]
  },
  {
   "cell_type": "code",
   "execution_count": 10,
   "metadata": {},
   "outputs": [
    {
     "data": {
      "text/html": [
       "<div>\n",
       "<style scoped>\n",
       "    .dataframe tbody tr th:only-of-type {\n",
       "        vertical-align: middle;\n",
       "    }\n",
       "\n",
       "    .dataframe tbody tr th {\n",
       "        vertical-align: top;\n",
       "    }\n",
       "\n",
       "    .dataframe thead th {\n",
       "        text-align: right;\n",
       "    }\n",
       "</style>\n",
       "<table border=\"1\" class=\"dataframe\">\n",
       "  <thead>\n",
       "    <tr style=\"text-align: right;\">\n",
       "      <th></th>\n",
       "      <th>Unnamed: 0</th>\n",
       "      <th>Museum</th>\n",
       "      <th>Website</th>\n",
       "      <th>City</th>\n",
       "      <th>State</th>\n",
       "      <th>Zip Code</th>\n",
       "      <th>General Admission</th>\n",
       "      <th>Senior</th>\n",
       "      <th>Student</th>\n",
       "      <th>Children</th>\n",
       "    </tr>\n",
       "  </thead>\n",
       "  <tbody>\n",
       "    <tr>\n",
       "      <th>0</th>\n",
       "      <td>1</td>\n",
       "      <td>Birmingham Museum of Art</td>\n",
       "      <td>artsbma.org</td>\n",
       "      <td>Birmingham</td>\n",
       "      <td>Alabama</td>\n",
       "      <td>35203</td>\n",
       "      <td>$0.00</td>\n",
       "      <td>$0.00</td>\n",
       "      <td>$0.00</td>\n",
       "      <td>$0.00</td>\n",
       "    </tr>\n",
       "    <tr>\n",
       "      <th>1</th>\n",
       "      <td>2</td>\n",
       "      <td>Huntsville Museum of Art</td>\n",
       "      <td>hsvmuseum.org</td>\n",
       "      <td>Huntsville</td>\n",
       "      <td>Alabama</td>\n",
       "      <td>35801</td>\n",
       "      <td>$10.00</td>\n",
       "      <td>$8.00</td>\n",
       "      <td>$5.00</td>\n",
       "      <td>$0.00</td>\n",
       "    </tr>\n",
       "    <tr>\n",
       "      <th>2</th>\n",
       "      <td>3</td>\n",
       "      <td>Mobile Museum of Art</td>\n",
       "      <td>mobilemuseumofart.com</td>\n",
       "      <td>Mobile</td>\n",
       "      <td>Alabama</td>\n",
       "      <td>36608</td>\n",
       "      <td>$12.00</td>\n",
       "      <td>$10.00</td>\n",
       "      <td>$8.00</td>\n",
       "      <td>$0.00</td>\n",
       "    </tr>\n",
       "    <tr>\n",
       "      <th>3</th>\n",
       "      <td>4</td>\n",
       "      <td>Montgomery Museum of Fine Arts</td>\n",
       "      <td>mmfa.org</td>\n",
       "      <td>Montgomery</td>\n",
       "      <td>Alabama</td>\n",
       "      <td>36117</td>\n",
       "      <td>$0.00</td>\n",
       "      <td>$0.00</td>\n",
       "      <td>$0.00</td>\n",
       "      <td>$0.00</td>\n",
       "    </tr>\n",
       "    <tr>\n",
       "      <th>4</th>\n",
       "      <td>5</td>\n",
       "      <td>Anchorage Museum of Art and History</td>\n",
       "      <td>anchoragemuseum.org</td>\n",
       "      <td>Anchorage</td>\n",
       "      <td>Alaska</td>\n",
       "      <td>99501</td>\n",
       "      <td>$18.00</td>\n",
       "      <td>$15.00</td>\n",
       "      <td>$9.00</td>\n",
       "      <td>$0.00</td>\n",
       "    </tr>\n",
       "  </tbody>\n",
       "</table>\n",
       "</div>"
      ],
      "text/plain": [
       "   Unnamed: 0                               Museum                Website  \\\n",
       "0           1             Birmingham Museum of Art            artsbma.org   \n",
       "1           2             Huntsville Museum of Art          hsvmuseum.org   \n",
       "2           3                 Mobile Museum of Art  mobilemuseumofart.com   \n",
       "3           4       Montgomery Museum of Fine Arts               mmfa.org   \n",
       "4           5  Anchorage Museum of Art and History    anchoragemuseum.org   \n",
       "\n",
       "         City    State  Zip Code General Admission   Senior Student Children  \n",
       "0  Birmingham  Alabama     35203            $0.00    $0.00   $0.00    $0.00   \n",
       "1  Huntsville  Alabama     35801           $10.00    $8.00   $5.00    $0.00   \n",
       "2      Mobile  Alabama     36608           $12.00   $10.00   $8.00    $0.00   \n",
       "3  Montgomery  Alabama     36117            $0.00    $0.00   $0.00    $0.00   \n",
       "4   Anchorage   Alaska     99501           $18.00   $15.00   $9.00    $0.00   "
      ]
     },
     "execution_count": 10,
     "metadata": {},
     "output_type": "execute_result"
    }
   ],
   "source": [
    "# read US Art Museums CSV\n",
    "museums = pd.read_csv('data/US_Art_Museums.csv')\n",
    "\n",
    "# display first 5 rows\n",
    "museums.head()"
   ]
  },
  {
   "cell_type": "code",
   "execution_count": 8,
   "metadata": {},
   "outputs": [
    {
     "data": {
      "text/html": [
       "<div>\n",
       "<style scoped>\n",
       "    .dataframe tbody tr th:only-of-type {\n",
       "        vertical-align: middle;\n",
       "    }\n",
       "\n",
       "    .dataframe tbody tr th {\n",
       "        vertical-align: top;\n",
       "    }\n",
       "\n",
       "    .dataframe thead th {\n",
       "        text-align: right;\n",
       "    }\n",
       "</style>\n",
       "<table border=\"1\" class=\"dataframe\">\n",
       "  <thead>\n",
       "    <tr style=\"text-align: right;\">\n",
       "      <th></th>\n",
       "      <th>Geography</th>\n",
       "      <th>Zip Code</th>\n",
       "      <th>Median Income</th>\n",
       "    </tr>\n",
       "  </thead>\n",
       "  <tbody>\n",
       "    <tr>\n",
       "      <th>0</th>\n",
       "      <td>860Z200US00601</td>\n",
       "      <td>601</td>\n",
       "      <td>17526</td>\n",
       "    </tr>\n",
       "    <tr>\n",
       "      <th>1</th>\n",
       "      <td>860Z200US00602</td>\n",
       "      <td>602</td>\n",
       "      <td>20260</td>\n",
       "    </tr>\n",
       "    <tr>\n",
       "      <th>2</th>\n",
       "      <td>860Z200US00603</td>\n",
       "      <td>603</td>\n",
       "      <td>17703</td>\n",
       "    </tr>\n",
       "    <tr>\n",
       "      <th>3</th>\n",
       "      <td>860Z200US00606</td>\n",
       "      <td>606</td>\n",
       "      <td>19603</td>\n",
       "    </tr>\n",
       "    <tr>\n",
       "      <th>4</th>\n",
       "      <td>860Z200US00610</td>\n",
       "      <td>610</td>\n",
       "      <td>22796</td>\n",
       "    </tr>\n",
       "  </tbody>\n",
       "</table>\n",
       "</div>"
      ],
      "text/plain": [
       "        Geography  Zip Code Median Income\n",
       "0  860Z200US00601       601         17526\n",
       "1  860Z200US00602       602         20260\n",
       "2  860Z200US00603       603         17703\n",
       "3  860Z200US00606       606         19603\n",
       "4  860Z200US00610       610         22796"
      ]
     },
     "execution_count": 8,
     "metadata": {},
     "output_type": "execute_result"
    }
   ],
   "source": [
    "# read 2022 Census Income Data CSV\n",
    "income = pd.read_csv('data/2022_Census_Income_Data.csv')\n",
    "\n",
    "# display first 5 rows\n",
    "income.head()"
   ]
  }
 ],
 "metadata": {
  "kernelspec": {
   "display_name": "Python 3",
   "language": "python",
   "name": "python3"
  },
  "language_info": {
   "codemirror_mode": {
    "name": "ipython",
    "version": 3
   },
   "file_extension": ".py",
   "mimetype": "text/x-python",
   "name": "python",
   "nbconvert_exporter": "python",
   "pygments_lexer": "ipython3",
   "version": "3.12.4"
  }
 },
 "nbformat": 4,
 "nbformat_minor": 2
}
